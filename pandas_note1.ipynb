{
 "cells": [
  {
   "cell_type": "markdown",
   "id": "5a02faae",
   "metadata": {},
   "source": [
    "# Pandas Basics Tutorial\n",
    "\n"
   ]
  },
  {
   "cell_type": "markdown",
   "id": "ca0967fc",
   "metadata": {},
   "source": [
    "## Learning Objectives\n",
    "By the end of this lesson you will be able to:\n",
    "1. Create and inspect **Series** and **DataFrame** objects.\n",
    "2. Load data from common file formats with `pd.read_*` helpers.\n",
    "3. Select and filter data using `.loc` and `.iloc`.\n",
    "4. Perform basic transforms, aggregations, and visualizations.\n",
    "5. Handle missing values effectively.\n"
   ]
  },
  {
   "cell_type": "code",
   "execution_count": null,
   "id": "f3eedeed",
   "metadata": {},
   "outputs": [
    {
     "name": "stdout",
     "output_type": "stream",
     "text": [
      "Requirement already satisfied: matplotlib in /home/mohsen/miniconda3/envs/j/lib/python3.12/site-packages (3.10.3)\n",
      "Requirement already satisfied: contourpy>=1.0.1 in /home/mohsen/miniconda3/envs/j/lib/python3.12/site-packages (from matplotlib) (1.3.2)\n",
      "Requirement already satisfied: cycler>=0.10 in /home/mohsen/miniconda3/envs/j/lib/python3.12/site-packages (from matplotlib) (0.12.1)\n",
      "Requirement already satisfied: fonttools>=4.22.0 in /home/mohsen/miniconda3/envs/j/lib/python3.12/site-packages (from matplotlib) (4.58.0)\n",
      "Requirement already satisfied: kiwisolver>=1.3.1 in /home/mohsen/miniconda3/envs/j/lib/python3.12/site-packages (from matplotlib) (1.4.8)\n",
      "Requirement already satisfied: numpy>=1.23 in /home/mohsen/miniconda3/envs/j/lib/python3.12/site-packages (from matplotlib) (2.2.6)\n",
      "Requirement already satisfied: packaging>=20.0 in /home/mohsen/miniconda3/envs/j/lib/python3.12/site-packages (from matplotlib) (24.1)\n",
      "Requirement already satisfied: pillow>=8 in /home/mohsen/miniconda3/envs/j/lib/python3.12/site-packages (from matplotlib) (11.2.1)\n",
      "Requirement already satisfied: pyparsing>=2.3.1 in /home/mohsen/miniconda3/envs/j/lib/python3.12/site-packages (from matplotlib) (3.2.3)\n",
      "Requirement already satisfied: python-dateutil>=2.7 in /home/mohsen/miniconda3/envs/j/lib/python3.12/site-packages (from matplotlib) (2.9.0.post0)\n",
      "Requirement already satisfied: six>=1.5 in /home/mohsen/miniconda3/envs/j/lib/python3.12/site-packages (from python-dateutil>=2.7->matplotlib) (1.16.0)\n",
      "Requirement already satisfied: numpy in /home/mohsen/miniconda3/envs/j/lib/python3.12/site-packages (2.2.6)\n",
      "Requirement already satisfied: pandas in /home/mohsen/miniconda3/envs/j/lib/python3.12/site-packages (2.2.3)\n",
      "Requirement already satisfied: numpy>=1.26.0 in /home/mohsen/miniconda3/envs/j/lib/python3.12/site-packages (from pandas) (2.2.6)\n",
      "Requirement already satisfied: python-dateutil>=2.8.2 in /home/mohsen/miniconda3/envs/j/lib/python3.12/site-packages (from pandas) (2.9.0.post0)\n",
      "Requirement already satisfied: pytz>=2020.1 in /home/mohsen/miniconda3/envs/j/lib/python3.12/site-packages (from pandas) (2025.2)\n",
      "Requirement already satisfied: tzdata>=2022.7 in /home/mohsen/miniconda3/envs/j/lib/python3.12/site-packages (from pandas) (2025.2)\n",
      "Requirement already satisfied: six>=1.5 in /home/mohsen/miniconda3/envs/j/lib/python3.12/site-packages (from python-dateutil>=2.8.2->pandas) (1.16.0)\n"
     ]
    }
   ],
   "source": [
    "!pip install matplotlib\n",
    "!pip install numpy\n",
    "!pip install pandas\n",
    "\n",
    "# it works in your local environment\n",
    "h"
   ]
  },
  {
   "cell_type": "code",
   "execution_count": null,
   "id": "ea909e15",
   "metadata": {},
   "outputs": [],
   "source": [
    "import pandas as pd\n",
    "import numpy as np\n",
    "pd.__version__"
   ]
  },
  {
   "cell_type": "markdown",
   "id": "b50994ef",
   "metadata": {},
   "source": [
    "## 1. Series and DataFrame objects"
   ]
  },
  {
   "cell_type": "code",
   "execution_count": null,
   "id": "3f0b4482",
   "metadata": {},
   "outputs": [],
   "source": [
    "s = pd.Series([1, 3, 5, np.nan, 6, 8], name='MySeries')\n",
    "s"
   ]
  },
  {
   "cell_type": "code",
   "execution_count": null,
   "id": "e873e39c",
   "metadata": {},
   "outputs": [],
   "source": [
    "data = {\n",
    "    'A': 1.,\n",
    "    'B': pd.Timestamp('2025-01-01'),\n",
    "    'C': pd.Series(1, index=list(range(4)), dtype='float32'),\n",
    "    'D': np.array([3] * 4, dtype='int32'),\n",
    "    'E': pd.Categorical(['test', 'train', 'test', 'train']),\n",
    "    'F': 'foo'\n",
    "}\n",
    "df = pd.DataFrame(data)\n",
    "df"
   ]
  },
  {
   "cell_type": "markdown",
   "id": "659cf3ec",
   "metadata": {},
   "source": [
    "## 2. Loading data from files"
   ]
  },
  {
   "cell_type": "code",
   "execution_count": null,
   "id": "13554c76",
   "metadata": {},
   "outputs": [],
   "source": [
    "from io import StringIO\n",
    "csv_data = '''name,age,city\n",
    "Alice,25,New York\n",
    "Bob,30,Paris\n",
    "Charlie,35,London'''\n",
    "\n",
    "people = pd.read_csv(StringIO(csv_data))\n",
    "people"
   ]
  },
  {
   "cell_type": "markdown",
   "id": "5b3eb49d",
   "metadata": {},
   "source": [
    "## 3. Inspecting data"
   ]
  },
  {
   "cell_type": "code",
   "execution_count": null,
   "id": "968bb47f",
   "metadata": {},
   "outputs": [],
   "source": [
    "people.head()"
   ]
  },
  {
   "cell_type": "code",
   "execution_count": null,
   "id": "be305f5f",
   "metadata": {},
   "outputs": [],
   "source": [
    "people.info()"
   ]
  },
  {
   "cell_type": "code",
   "execution_count": null,
   "id": "f2c4e68c",
   "metadata": {},
   "outputs": [],
   "source": [
    "people.describe()"
   ]
  },
  {
   "cell_type": "markdown",
   "id": "04c33551",
   "metadata": {},
   "source": [
    "## 4. Selecting data – `.loc` and `.iloc`"
   ]
  },
  {
   "cell_type": "code",
   "execution_count": null,
   "id": "4929a26a",
   "metadata": {},
   "outputs": [],
   "source": [
    "people.loc[people['age'] > 28, ['name', 'city']]"
   ]
  },
  {
   "cell_type": "code",
   "execution_count": null,
   "id": "08da1ce0",
   "metadata": {},
   "outputs": [],
   "source": [
    "people.iloc[0:2, 0:2]\n"
   ]
  },
  {
   "cell_type": "markdown",
   "id": "f951d1cd",
   "metadata": {},
   "source": [
    "## 5. Basic operations"
   ]
  },
  {
   "cell_type": "code",
   "execution_count": null,
   "id": "d03724d4",
   "metadata": {},
   "outputs": [],
   "source": [
    "people['age_plus_10'] = people['age'] + 10\n",
    "people"
   ]
  },
  {
   "cell_type": "code",
   "execution_count": null,
   "id": "546857b9",
   "metadata": {},
   "outputs": [],
   "source": [
    "people.sort_values('age', ascending=False)"
   ]
  },
  {
   "cell_type": "markdown",
   "id": "f0cb6da6",
   "metadata": {},
   "source": [
    "## 6. Handling missing data"
   ]
  },
  {
   "cell_type": "code",
   "execution_count": null,
   "id": "2fb34f5f",
   "metadata": {},
   "outputs": [],
   "source": [
    "df2 = df.copy()\n",
    "df2.loc[1, 'A'] = np.nan\n",
    "df2.loc[2, 'D'] = np.nan\n",
    "df2"
   ]
  },
  {
   "cell_type": "code",
   "execution_count": null,
   "id": "c1fbef81",
   "metadata": {},
   "outputs": [],
   "source": [
    "df2.dropna()"
   ]
  },
  {
   "cell_type": "code",
   "execution_count": null,
   "id": "a0a666ac",
   "metadata": {},
   "outputs": [],
   "source": [
    "df2.fillna({'A': df2['A'].mean(), 'D': 0})"
   ]
  },
  {
   "cell_type": "markdown",
   "id": "4079df52",
   "metadata": {},
   "source": [
    "## 8. Hands‑on Exercises\n",
    "\n",
    "Add new cells below and solve the following tasks:\n",
    "1. **Load a CSV file**: Use `pd.read_csv` to load the Iris dataset (you can fetch it from the UCI repository) and display its first five rows.\n",
    "2. **Compute statistics**: For the Iris dataset, compute the mean *petal length* for each species.\n",
    "3. **Handle missing data**: Make a copy of the Iris DataFrame, randomly set 10 values to `NaN`, then fill them using the column medians.\n",
    "4. **Visualization**: Plot a scatter plot of *sepal length* vs. *sepal width* colored by species.\n"
   ]
  }
 ],
 "metadata": {
  "kernelspec": {
   "display_name": "j",
   "language": "python",
   "name": "python3"
  },
  "language_info": {
   "codemirror_mode": {
    "name": "ipython",
    "version": 3
   },
   "file_extension": ".py",
   "mimetype": "text/x-python",
   "name": "python",
   "nbconvert_exporter": "python",
   "pygments_lexer": "ipython3",
   "version": "3.12.3"
  }
 },
 "nbformat": 4,
 "nbformat_minor": 5
}
