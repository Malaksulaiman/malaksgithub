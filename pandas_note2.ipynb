{
 "cells": [
  {
   "cell_type": "markdown",
   "id": "981d6a36",
   "metadata": {},
   "source": [
    "# Pandas"
   ]
  },
  {
   "cell_type": "markdown",
   "id": "3bdd9e84",
   "metadata": {},
   "source": [
    "## Learning Objectives\n",
    "After completing this session you should be able to:\n",
    "1. Combine datasets with **`concat`**, **`merge`**, and joins.\n",
    "2. Reshape data with **`pivot_table`**, **`melt`**, **`stack`**, and **`unstack`**.\n",
    "3. Work with **MultiIndex** objects for hierarchical data organization.\n",
    "4. Manipulate and analyze **time‑series** data (resampling & rolling windows).\n",
    "5. Use **categorical** types to improve performance & semantics.\n",
    "6. Apply performance optimizations for large datasets."
   ]
  },
  {
   "cell_type": "code",
   "execution_count": null,
   "id": "92a5e940",
   "metadata": {},
   "outputs": [],
   "source": [
    "import pandas as pd\n",
    "import numpy as np\n",
    "import matplotlib.pyplot as plt\n",
    "%matplotlib inline\n",
    "pd.options.display.width = 100\n",
    "pd.options.display.max_columns = 20"
   ]
  },
  {
   "cell_type": "markdown",
   "id": "7a76ba30",
   "metadata": {},
   "source": [
    "## 1 · Combining DataFrames"
   ]
  },
  {
   "cell_type": "code",
   "execution_count": null,
   "id": "38570aee",
   "metadata": {},
   "outputs": [],
   "source": [
    "# Example data\n",
    "df_a = pd.DataFrame({'id': [1, 2, 3], 'name': ['Alice', 'Bob', 'Charlie']})\n",
    "df_b = pd.DataFrame({'id': [2, 3, 4], 'dept': ['Finance', 'HR', 'Engineering']})\n",
    "df_a, df_b"
   ]
  },
  {
   "cell_type": "code",
   "execution_count": null,
   "id": "3b7c001b",
   "metadata": {},
   "outputs": [],
   "source": [
    "# Inner join (intersection of keys)\n",
    "pd.merge(df_a, df_b, on='id', how='inner')"
   ]
  },
  {
   "cell_type": "code",
   "execution_count": null,
   "id": "7890ce79",
   "metadata": {},
   "outputs": [],
   "source": [
    "df_a"
   ]
  },
  {
   "cell_type": "code",
   "execution_count": null,
   "id": "1cb44a04",
   "metadata": {},
   "outputs": [],
   "source": [
    "df_b"
   ]
  },
  {
   "cell_type": "code",
   "execution_count": null,
   "id": "d8364da7",
   "metadata": {},
   "outputs": [],
   "source": []
  },
  {
   "cell_type": "code",
   "execution_count": null,
   "id": "92c5b691",
   "metadata": {},
   "outputs": [],
   "source": [
    "# Outer join (union of keys)\n",
    "pd.merge(df_a, df_b, on='id', how='outer')"
   ]
  },
  {
   "cell_type": "code",
   "execution_count": null,
   "id": "7c3012e9",
   "metadata": {},
   "outputs": [],
   "source": [
    "# Concatenate row‑wise\n",
    "df_c = pd.DataFrame({'id': [4, 5], 'name': ['Dan', 'Eva']})\n",
    "pd.concat([df_a, df_c], ignore_index=True)"
   ]
  },
  {
   "cell_type": "code",
   "execution_count": null,
   "id": "cb681e5d",
   "metadata": {},
   "outputs": [],
   "source": [
    "# Concatenate column‑wise\n",
    "pd.concat([df_a.set_index('id'), df_b.set_index('id')], axis=1)"
   ]
  },
  {
   "cell_type": "markdown",
   "id": "2157832a",
   "metadata": {},
   "source": [
    "## 2 · Reshaping & Pivoting"
   ]
  },
  {
   "cell_type": "code",
   "execution_count": null,
   "id": "dff63a9b",
   "metadata": {},
   "outputs": [],
   "source": [
    "# Long to wide with pivot_table\n",
    "sales_long = pd.DataFrame({\n",
    "    'store': ['A', 'A', 'B', 'B'] * 3,\n",
    "    'quarter': ['Q1']*4 + ['Q2']*4 + ['Q3']*4,\n",
    "    'product': ['widgets', 'gadgets', 'widgets', 'gadgets']*3,\n",
    "    'revenue': np.random.randint(1000, 5000, 12)\n",
    "})\n",
    "sales_wide = sales_long.pivot_table(index=['store', 'product'], columns='quarter', values='revenue')\n",
    "sales_wide"
   ]
  },
  {
   "cell_type": "code",
   "execution_count": null,
   "id": "de876d3e",
   "metadata": {},
   "outputs": [],
   "source": [
    "# Wide to long with melt\n",
    "sales_melted = sales_wide.reset_index().melt(id_vars=['store', 'product'], var_name='quarter', value_name='revenue')\n",
    "sales_melted.head()"
   ]
  },
  {
   "cell_type": "code",
   "execution_count": null,
   "id": "2c334acc",
   "metadata": {},
   "outputs": [],
   "source": [
    "# stack / unstack\n",
    "sales_wide.stack().head()"
   ]
  },
  {
   "cell_type": "markdown",
   "id": "f76af597",
   "metadata": {},
   "source": [
    "## 3 · Hierarchical Indexing (MultiIndex)"
   ]
  },
  {
   "cell_type": "code",
   "execution_count": null,
   "id": "c18b6647",
   "metadata": {},
   "outputs": [],
   "source": [
    "tuples = [('USA', 'NY'), ('USA', 'CA'), ('UK', 'London'), ('UK', 'Manchester')]\n",
    "index = pd.MultiIndex.from_tuples(tuples, names=['country', 'city'])\n",
    "pop = pd.Series([19.8, 39.0, 8.9, 2.8], index=index, name='population (millions)')\n",
    "pop"
   ]
  },
  {
   "cell_type": "code",
   "execution_count": null,
   "id": "59ca0590",
   "metadata": {},
   "outputs": [],
   "source": [
    "# Cross‑section (all rows for country 'USA')\n",
    "pop.xs('USA')"
   ]
  },
  {
   "cell_type": "code",
   "execution_count": null,
   "id": "12bd8bba",
   "metadata": {},
   "outputs": [],
   "source": [
    "# Swap levels and sort\n",
    "pop.swaplevel().sort_index().head()"
   ]
  },
  {
   "cell_type": "markdown",
   "id": "0fcf2d60",
   "metadata": {},
   "source": [
    "## 5 · Categorical Data"
   ]
  },
  {
   "cell_type": "code",
   "execution_count": null,
   "id": "8f182c8e",
   "metadata": {},
   "outputs": [],
   "source": [
    "survey = pd.DataFrame({'response': np.random.choice(['agree', 'neutral', 'disagree'], 1000)})\n",
    "survey['response_cat'] = pd.Categorical(survey['response'], categories=['disagree', 'neutral', 'agree'], ordered=True)\n",
    "survey['response_cat'].value_counts().sort_index()"
   ]
  },
  {
   "cell_type": "markdown",
   "id": "c3c52697",
   "metadata": {},
   "source": [
    "## 6 · Performance & Memory Efficiency"
   ]
  },
  {
   "cell_type": "code",
   "execution_count": null,
   "id": "e926fab8",
   "metadata": {},
   "outputs": [],
   "source": [
    "# Simulate a large DataFrame\n",
    "n = 1_000_000\n",
    "big = pd.DataFrame({\n",
    "    'int_col': np.random.randint(0, 100, n),\n",
    "    'float_col': np.random.rand(n),\n",
    "    'str_col': np.random.choice(['A', 'B', 'C', 'D'], n)\n",
    "})\n",
    "mem_before = big.memory_usage(deep=True).sum() / 1024**2\n",
    "mem_before"
   ]
  },
  {
   "cell_type": "code",
   "execution_count": null,
   "id": "43d3a1b6",
   "metadata": {},
   "outputs": [],
   "source": [
    "# Downcast numeric columns and convert object to category\n",
    "opt = big.copy()\n",
    "opt['int_col'] = pd.to_numeric(opt['int_col'], downcast='unsigned')\n",
    "opt['float_col'] = pd.to_numeric(opt['float_col'], downcast='float')\n",
    "opt['str_col'] = opt['str_col'].astype('category')\n",
    "mem_after = opt.memory_usage(deep=True).sum() / 1024**2\n",
    "mem_before, mem_after"
   ]
  },
  {
   "cell_type": "markdown",
   "id": "bff87d22",
   "metadata": {},
   "source": [
    "### Vectorization vs. `apply`\n",
    "Whenever possible, rely on built‑in vectorized operations instead of row‑wise `apply`, which is slower."
   ]
  },
  {
   "cell_type": "markdown",
   "id": "724cedc9",
   "metadata": {},
   "source": [
    "## 7 · Hands‑on Exercises\n",
    "\n",
    "1. **Order analysis**  \n",
    "   *Download* the Kaggle \"Brazilian E‑Commerce Public Dataset by Olist\" (or another sales dataset). Merge the `orders`, `order_items`, and `products` tables to compute total revenue **per product category**.\n",
    "\n",
    "2. **Temperature heatmap**  \n",
    "   Load the classic *flights* dataset from Seaborn (`sns.load_dataset('flights')`). Pivot it to shape **months × year** with passenger counts, then plot a heatmap (hint: use `pivot_table`).\n",
    "\n",
    "3. **Rolling stock prices**  \n",
    "   Fetch daily closing prices for two tickers using `pandas_datareader`. Compute and plot the 20‑day rolling standard deviation for each.\n",
    "\n",
    "4. **Memory optimization**  \n",
    "   Create a function `memory_report(df)` that prints the memory usage of every column. Apply it to a large CSV you have, then optimize dtypes and show the improvement."
   ]
  }
 ],
 "metadata": {
  "kernelspec": {
   "display_name": "j",
   "language": "python",
   "name": "python3"
  },
  "language_info": {
   "codemirror_mode": {
    "name": "ipython",
    "version": 3
   },
   "file_extension": ".py",
   "mimetype": "text/x-python",
   "name": "python",
   "nbconvert_exporter": "python",
   "pygments_lexer": "ipython3",
   "version": "3.12.3"
  }
 },
 "nbformat": 4,
 "nbformat_minor": 5
}
